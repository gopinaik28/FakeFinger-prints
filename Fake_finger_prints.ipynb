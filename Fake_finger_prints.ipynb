{
  "nbformat": 4,
  "nbformat_minor": 0,
  "metadata": {
    "colab": {
      "provenance": []
    },
    "kernelspec": {
      "name": "python3",
      "display_name": "Python 3"
    },
    "language_info": {
      "name": "python"
    }
  },
  "cells": [
    {
      "cell_type": "code",
      "source": [
        "import cv2\n",
        "import numpy as np\n",
        "\n",
        "# Load the fingerprint image and convert to grayscale\n",
        "img = cv2.imread('2.jpg',0)\n",
        "\n",
        "# Apply gaussian blur to smoothen the image and remove noise\n",
        "blur = cv2.GaussianBlur(img, (5,5), 0)\n",
        "\n",
        "# Apply canny edge detection\n",
        "edges = cv2.Canny(blur,100,200)\n",
        "\n",
        "# Find contours\n",
        "contours, hierarchy = cv2.findContours(edges, cv2.RETR_TREE, cv2.CHAIN_APPROX_SIMPLE)\n",
        "\n",
        "# Check if number of contours exceeds a threshold\n",
        "if len(contours) > 100:\n",
        "    print('Fake fingerprint!')\n",
        "else:\n",
        "    print('Real fingerprint!')\n"
      ],
      "metadata": {
        "colab": {
          "base_uri": "https://localhost:8080/"
        },
        "id": "CK6E2aBzhMQA",
        "outputId": "a2189f8d-fd56-4634-fe40-35546e0aad14"
      },
      "execution_count": null,
      "outputs": [
        {
          "output_type": "stream",
          "name": "stdout",
          "text": [
            "Real fingerprint!\n"
          ]
        }
      ]
    }
  ]
}